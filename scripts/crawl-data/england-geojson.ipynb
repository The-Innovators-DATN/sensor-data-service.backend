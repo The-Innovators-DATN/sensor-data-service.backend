{
 "cells": [
  {
   "cell_type": "code",
   "execution_count": null,
   "id": "66232811",
   "metadata": {},
   "outputs": [
    {
     "name": "stdout",
     "output_type": "stream",
     "text": [
      "Index(['id', 'name', 'uri', 'water-body-type', 'geometry-type', 'geometry'], dtype='object')\n",
      "\n",
      "Unique values in id:\n",
      "['GB40702G503900' 'GB104027063930' 'GB107042016440' ... 'GB31229197'\n",
      " 'GB30846165' 'GB30432621']\n",
      "\n",
      "Unique values in name:\n",
      "['Kent Romney Marsh' 'Dorts Dike  Catchment (trib of Wharfe)'\n",
      " 'Whiteparish Trib' ... 'Rydal Water' 'Stannon Lake' 'Middle Redmires']\n",
      "\n",
      "Unique values in uri:\n",
      "['http://environment.data.gov.uk/catchment-planning/so/WaterBody/GB40702G503900'\n",
      " 'http://environment.data.gov.uk/catchment-planning/so/WaterBody/GB104027063930'\n",
      " 'http://environment.data.gov.uk/catchment-planning/so/WaterBody/GB107042016440'\n",
      " ...\n",
      " 'http://environment.data.gov.uk/catchment-planning/so/WaterBody/GB31229197'\n",
      " 'http://environment.data.gov.uk/catchment-planning/so/WaterBody/GB30846165'\n",
      " 'http://environment.data.gov.uk/catchment-planning/so/WaterBody/GB30432621']\n",
      "\n",
      "Unique values in water-body-type:\n",
      "['{ \"string\": \"Groundwater Body\", \"lang\": \"en\" }'\n",
      " '{ \"string\": \"River\", \"lang\": \"en\" }'\n",
      " '{ \"string\": \"Canal\", \"lang\": \"en\" }'\n",
      " '{ \"string\": \"Lake\", \"lang\": \"en\" }'\n",
      " '{ \"string\": \"Transitional Water\", \"lang\": \"en\" }'\n",
      " '{ \"string\": \"Surface water transfer\", \"lang\": \"en\" }'\n",
      " '{ \"string\": \"Coastal Water\", \"lang\": \"en\" }']\n",
      "\n",
      "Unique values in geometry-type:\n",
      "['http://environment.data.gov.uk/catchment-planning/def/geometry/Catchment'\n",
      " 'http://environment.data.gov.uk/catchment-planning/def/geometry/RiverLine']\n"
     ]
    }
   ],
   "source": [
    "import geopandas as gpd\n",
    "\n",
    "# Load the full GeoJSON\n",
    "gdf = gpd.read_file(\"../../dataset/England.geojson\")\n",
    "\n",
    "# Check what columns exist\n",
    "print(gdf.columns)\n",
    "\n",
    "# Peek at unique values in name-like columns\n",
    "for col in gdf.columns:\n",
    "    # Check if the column is a geometry-type\n",
    "    if gdf[col].dtype == \"geometry-type\":\n",
    "        print(f\"Column {col} is a geometry-type\")\n",
    "    # if gdf[col].dtype == object:\n"
   ]
  },
  {
   "cell_type": "code",
   "execution_count": 15,
   "id": "81719c0c",
   "metadata": {},
   "outputs": [
    {
     "name": "stdout",
     "output_type": "stream",
     "text": [
      "Column geometry-type is a geometry-type\n",
      "Processing http://environment.data.gov.uk/catchment-planning/def/geometry/Catchment\n",
      "Processing http://environment.data.gov.uk/catchment-planning/def/geometry/RiverLine\n"
     ]
    }
   ],
   "source": [
    "for col in gdf.columns:\n",
    "    # Check if the column is a geometry-type\n",
    "    if col == \"geometry-type\":\n",
    "        print(f\"Column {col} is a geometry-type\")\n",
    "        # Split data into separate file by unique values of the column\n",
    "        i = 1\n",
    "        for value in gdf[col].unique():\n",
    "            print(f\"Processing {value}\")\n",
    "            # Filter the GeoDataFrame\n",
    "            filtered_gdf = gdf[gdf[col] == value]\n",
    "            # Save to a new GeoJSON file\n",
    "            filtered_gdf.to_file(f\"england_{i}.geojson\", driver=\"GeoJSON\")\n",
    "            i+=1\n",
    "    "
   ]
  },
  {
   "cell_type": "code",
   "execution_count": null,
   "id": "72815887",
   "metadata": {},
   "outputs": [
    {
     "name": "stdout",
     "output_type": "stream",
     "text": [
      "Saved 446 features of type MultiPolygon to England_MultiPolygon.geojson\n",
      "Saved 4327 features of type Polygon to England_Polygon.geojson\n",
      "Saved 3928 features of type MultiLineString to England_MultiLineString.geojson\n"
     ]
    }
   ],
   "source": [
    "# Split the GeoDataFrame into separate files by unique geometry-type\n",
    "for geom_type in gdf.geometry.geom_type.unique():\n",
    "    # Filter the GeoDataFrame for the current geometry type\n",
    "    filtered_gdf = gdf[gdf.geometry.geom_type == geom_type]\n",
    "    \n",
    "    # Write the filtered GeoDataFrame to a new GeoJSON file\n",
    "    output_file = f\"England_{geom_type}.geojson\"\n",
    "    filtered_gdf.to_file(output_file, driver=\"GeoJSON\")\n",
    "    print(f\"Saved {len(filtered_gdf)} features of type {geom_type} to {output_file}\")"
   ]
  },
  {
   "cell_type": "code",
   "execution_count": 20,
   "id": "c1222b1c",
   "metadata": {},
   "outputs": [],
   "source": [
    "gdf = gpd.read_file(\"../../dataset/England.geojson\")\n",
    "# Keep only geometries where geometry-type = Catchment (i.e., polygon boundaries)\n",
    "gdf = gdf[gdf['geometry-type'].str.endswith(\"/Catchment\", na=False)]\n",
    "\n",
    "# Optionally exclude groundwater if you only want surface catchments\n",
    "# gdf = gdf[~gdf['water-body-type'].str.contains(\"Groundwater\", na=False)]\n",
    "\n",
    "# Optional: Drop unnecessary columns\n",
    "gdf = gdf[['id', 'name', 'geometry']]\n",
    "\n",
    "# Save the cleaned catchments to GeoJSON\n",
    "# gdf.to_file(\"england_catchments_only.geojson\", driver=\"GeoJSON\")\n",
    "\n",
    "# for tol in [0.1, 0.01, 0.001]:\n",
    "#     temp_gdf = gdf.copy()\n",
    "#     temp_gdf[\"geometry\"] = temp_gdf[\"geometry\"].simplify(tolerance=tol, preserve_topology=True)\n",
    "#     temp_gdf.iloc[:1].to_file(f\"england_catchments_only_{tol}.geojson\", driver=\"GeoJSON\")\n",
    "#     # gdf.to_file(f\"catchments_simplified_{tol}.geojson\", driver=\"GeoJSON\")\n",
    "gdf[\"geometry\"] = gdf[\"geometry\"].simplify(tolerance=0.01, preserve_topology=True)\n",
    "# Save the first 10 catchments to a new GeoJSON file\n",
    "gdf.to_file(\"england_catchments_only.geojson\", driver=\"GeoJSON\")\n",
    "# # Save the first 10 catchments to a new shapefile\n",
    "# gdf.iloc[:10].to_file(\"england_catchments_only_10.shp\", driver=\"ESRI Shapefile\")\n",
    "# # Save the first 10 catchments to a new GPKG file\n",
    "# gdf.iloc[:10].to_file(\"england_catchments_only_10.gpkg\", driver=\"GPKG\")\n"
   ]
  },
  {
   "cell_type": "code",
   "execution_count": null,
   "id": "e1bba5a5",
   "metadata": {},
   "outputs": [],
   "source": []
  }
 ],
 "metadata": {
  "kernelspec": {
   "display_name": "Python 3",
   "language": "python",
   "name": "python3"
  },
  "language_info": {
   "codemirror_mode": {
    "name": "ipython",
    "version": 3
   },
   "file_extension": ".py",
   "mimetype": "text/x-python",
   "name": "python",
   "nbconvert_exporter": "python",
   "pygments_lexer": "ipython3",
   "version": "3.10.12"
  }
 },
 "nbformat": 4,
 "nbformat_minor": 5
}
